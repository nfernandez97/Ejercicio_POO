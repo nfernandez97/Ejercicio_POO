{
  "nbformat": 4,
  "nbformat_minor": 0,
  "metadata": {
    "colab": {
      "name": "Seguimiento.ipynb",
      "provenance": [],
      "collapsed_sections": [],
      "authorship_tag": "ABX9TyNhEgZwpDH345+e3eqzLX5q",
      "include_colab_link": true
    },
    "kernelspec": {
      "name": "python3",
      "display_name": "Python 3"
    },
    "language_info": {
      "name": "python"
    }
  },
  "cells": [
    {
      "cell_type": "markdown",
      "metadata": {
        "id": "view-in-github",
        "colab_type": "text"
      },
      "source": [
        "<a href=\"https://colab.research.google.com/gist/nfernandez97/52a2b0e1261a4e8a7135f36451c2bb93/seguimiento.ipynb\" target=\"_parent\"><img src=\"https://colab.research.google.com/assets/colab-badge.svg\" alt=\"Open In Colab\"/></a>"
      ]
    },
    {
      "cell_type": "markdown",
      "source": [
        "#Seguimiento \n",
        "Sebastian Jimenez\n",
        "\n",
        "Daniel Giraldo\n",
        "\n",
        "Nicolas Fernandez"
      ],
      "metadata": {
        "id": "_i3TwqNf1Cq7"
      }
    },
    {
      "cell_type": "code",
      "execution_count": null,
      "metadata": {
        "id": "uSvPkzRwdSSi"
      },
      "outputs": [],
      "source": [
        "from typing import Type\n",
        "def decorador_formato(funcion):\n",
        "  def wrapper(*args):\n",
        "    print(\"*\"*50)\n",
        "    funcion(*args)\n",
        "    print(\"*\"*50 )\n",
        "  return wrapper\n",
        "  \n",
        "\n",
        "class Pasajero():\n",
        "  \"\"\" Clase pasajero.\n",
        "    Esta permite crear un pasajero\n",
        "  \"\"\"\n",
        "  def __init__(self,nombre,edad,genero):\n",
        "    \"\"\" Constructor pasajero:\n",
        "      *Parametros:\n",
        "        -nombre: str\n",
        "        -edad: int\n",
        "        -genero: str in (\"F\",\"M\")\n",
        "    \"\"\"\n",
        "    if isinstance(nombre,str) and isinstance(edad,int) and isinstance(genero,str) and genero in (\"F\",\"M\"):\n",
        "      self.nombre = nombre\n",
        "      self.edad = edad\n",
        "      self.genero = genero\n",
        "    else:\n",
        "      raise TypeError(\"Algun tipo de dato es invalido\")\n",
        "  \n",
        "  def __str__(self):\n",
        "    return f\"Pasajero {self.nombre} con edad {self.edad} y genero {self.genero}\"\n",
        "\n",
        "class Bus():\n",
        "  \"\"\" Clase bus.\n",
        "    Permite crear un bus con los siguientes métodos: \n",
        "    *Métodos:\n",
        "      -subir_pasajeros\n",
        "      -bajar_pasajeros\n",
        "      -mostrar\n",
        "      -mostrar_ganancia\n",
        "  \"\"\"\n",
        "  def __init__(self,modelo,capacidad):\n",
        "    \"\"\" Constructor bus:\n",
        "      *Parametros:\n",
        "        -modelo: int\n",
        "        -capacidad: int\n",
        "    \"\"\"    \n",
        "    self.modelo = modelo\n",
        "    self.capacidad = capacidad\n",
        "    self.pasajeros = []\n",
        "    self.dinero = 0\n",
        "\n",
        "  @decorador_formato\n",
        "  def subir_pasajeros(self,*args):\n",
        "    \"\"\"Este metodo agrega el atributo/lista pasajeros\n",
        "      *args: pasajeros indeterminado por orden\n",
        "    \"\"\"\n",
        "    for pasajero in args:\n",
        "      if len(self.pasajeros) < self.capacidad:\n",
        "        if pasajero.edad < 60:\n",
        "          self.dinero += 2500\n",
        "        else:\n",
        "          self.dinero += 1000   \n",
        "        self.pasajeros.append(pasajero)\n",
        "        print(f\"Se subió el {pasajero}\")\n",
        "        self.mostrar_ganancia()\n",
        "      else:\n",
        "        print(\"El cupo está lleno\")\n",
        "        break  \n",
        "\n",
        "  @decorador_formato\n",
        "  def bajar_pasajeros(self,numero_pasajeros):\n",
        "    \"\"\"Este metodo elimina n pasajeros\n",
        "    *Parametros:\n",
        "      numero_pasajeros: int\n",
        "    \"\"\"\n",
        "    if isinstance(numero_pasajeros,int):\n",
        "\n",
        "      if numero_pasajeros <= len(self.pasajeros):\n",
        "        for i in range(numero_pasajeros):\n",
        "          pasajero_eliminado = self.pasajeros.pop(0)\n",
        "          print(f\"Se bajó el {pasajero_eliminado}\")\n",
        "      else:\n",
        "        print(f\"No se pueden bajar mas de {len(self.pasajeros)} pasajeros\")\n",
        "    else:\n",
        "      raise TypeError(\"El numero ingresado es invalido\")\n",
        "  \n",
        "  def mostrar_ganancia(self):\n",
        "    \"\"\"Muestra el total recaudado hasta el momento\n",
        "    \"\"\"\n",
        "    print(f\"El total recaudado va en {self.dinero}\") \n",
        "\n",
        "  def __str__(self):\n",
        "    return f\"El bus es modelo {self.modelo}, con una capacidad de {self.capacidad} pasajeros. Ha recaudado {self.dinero} y tiene {len(self.pasajeros)} sillas ocupadas por los siguientes pasajeros:\\n\"  \n",
        "\n",
        "  @decorador_formato\n",
        "  def mostrar(self):\n",
        "    \"\"\"Muestra toda la información del bus y los pasajeros\n",
        "    \"\"\"\n",
        "    numero_hombres = 0\n",
        "    numero_mujeres = 0\n",
        "    info = self.__str__()\n",
        "    for pasajero in self.pasajeros:\n",
        "      if pasajero.genero == \"M\":\n",
        "        numero_hombres += 1\n",
        "      else:\n",
        "        numero_mujeres += 1  \n",
        "      info = info +  pasajero.__str__() + \"\\n\" \n",
        "    info = info + f\"El porcentaje de hombres es {(numero_hombres/(len(self.pasajeros)))*100}% y el porcentaje de mujeres es {(numero_mujeres/(len(self.pasajeros)))*100}%\"\n",
        "    print(info)\n",
        "        "
      ]
    },
    {
      "cell_type": "code",
      "source": [
        "p1 = Pasajero(\"Sebastian\",70,\"M\")\n",
        "p2 = Pasajero(\"Sebastian2\",24,\"F\")\n",
        "p3 = Pasajero(\"Sebastian3\",60,\"M\")\n",
        "p4 = Pasajero(\"Sebastian4\",21,\"M\")\n",
        "p5 = Pasajero(\"Sebastian5\",36,\"F\")\n",
        "p6 = Pasajero(\"Sebastian6\",75,\"M\")\n",
        "p7 = Pasajero(\"Sebastian7\",15,\"M\")\n",
        "p8 = Pasajero(\"Sebastian8\",46,\"F\")\n",
        "p9 = Pasajero(\"Sebastian9\",78,\"M\")\n",
        "p10 = Pasajero(\"Alepaper\",150,\"M\")\n",
        "\n",
        "bus = Bus(2015,30)\n",
        "bus.subir_pasajeros(p1,p2,p3,p4,p5,p6,p7,p8,p9,p10)\n",
        "bus.mostrar()"
      ],
      "metadata": {
        "colab": {
          "base_uri": "https://localhost:8080/"
        },
        "id": "vAir5IJsjEHe",
        "outputId": "a92d34e6-e705-4f9c-bad6-f611e3fc1b16"
      },
      "execution_count": null,
      "outputs": [
        {
          "output_type": "stream",
          "name": "stdout",
          "text": [
            "**************************************************\n",
            "Se subió el Pasajero Sebastian con edad 70 y genero M\n",
            "El total recaudado va en 1000\n",
            "Se subió el Pasajero Sebastian2 con edad 24 y genero F\n",
            "El total recaudado va en 3500\n",
            "Se subió el Pasajero Sebastian3 con edad 60 y genero M\n",
            "El total recaudado va en 4500\n",
            "Se subió el Pasajero Sebastian4 con edad 21 y genero M\n",
            "El total recaudado va en 7000\n",
            "Se subió el Pasajero Sebastian5 con edad 36 y genero F\n",
            "El total recaudado va en 9500\n",
            "Se subió el Pasajero Sebastian6 con edad 75 y genero M\n",
            "El total recaudado va en 10500\n",
            "Se subió el Pasajero Sebastian7 con edad 15 y genero M\n",
            "El total recaudado va en 13000\n",
            "Se subió el Pasajero Sebastian8 con edad 46 y genero F\n",
            "El total recaudado va en 15500\n",
            "Se subió el Pasajero Sebastian9 con edad 78 y genero M\n",
            "El total recaudado va en 16500\n",
            "Se subió el Pasajero Alepaper con edad 150 y genero M\n",
            "El total recaudado va en 17500\n",
            "**************************************************\n",
            "**************************************************\n",
            "El bus es modelo 2015, con una capacidad de 30 pasajeros. Ha recaudado 17500 y tiene 10 sillas ocupadas por los siguientes pasajeros:\n",
            "Pasajero Sebastian con edad 70 y genero M\n",
            "Pasajero Sebastian2 con edad 24 y genero F\n",
            "Pasajero Sebastian3 con edad 60 y genero M\n",
            "Pasajero Sebastian4 con edad 21 y genero M\n",
            "Pasajero Sebastian5 con edad 36 y genero F\n",
            "Pasajero Sebastian6 con edad 75 y genero M\n",
            "Pasajero Sebastian7 con edad 15 y genero M\n",
            "Pasajero Sebastian8 con edad 46 y genero F\n",
            "Pasajero Sebastian9 con edad 78 y genero M\n",
            "Pasajero Alepaper con edad 150 y genero M\n",
            "El porcentaje de hombres es 70.0% y el porcentaje de mujeres es 30.0%\n",
            "**************************************************\n"
          ]
        }
      ]
    },
    {
      "cell_type": "code",
      "source": [
        "bus.bajar_pasajeros(5)\n",
        "bus.mostrar()\n",
        "bus.mostrar_ganancia()"
      ],
      "metadata": {
        "colab": {
          "base_uri": "https://localhost:8080/"
        },
        "id": "XnRBhJP0u3wc",
        "outputId": "d8c46f39-5565-4413-a362-a49cb99f4ee7"
      },
      "execution_count": null,
      "outputs": [
        {
          "output_type": "stream",
          "name": "stdout",
          "text": [
            "**************************************************\n",
            "Se bajó el Pasajero Sebastian con edad 70 y genero M\n",
            "Se bajó el Pasajero Sebastian2 con edad 24 y genero F\n",
            "Se bajó el Pasajero Sebastian3 con edad 60 y genero M\n",
            "Se bajó el Pasajero Sebastian4 con edad 21 y genero M\n",
            "Se bajó el Pasajero Sebastian5 con edad 36 y genero F\n",
            "**************************************************\n",
            "**************************************************\n",
            "El bus es modelo 2015, con una capacidad de 30 pasajeros. Ha recaudado 17500 y tiene 5 sillas ocupadas por los siguientes pasajeros:\n",
            "Pasajero Sebastian6 con edad 75 y genero M\n",
            "Pasajero Sebastian7 con edad 15 y genero M\n",
            "Pasajero Sebastian8 con edad 46 y genero F\n",
            "Pasajero Sebastian9 con edad 78 y genero M\n",
            "Pasajero Alepaper con edad 150 y genero M\n",
            "El porcentaje de hombres es 80.0% y el porcentaje de mujeres es 20.0%\n",
            "**************************************************\n",
            "El total recaudado va en 17500\n"
          ]
        }
      ]
    }
  ]
}
